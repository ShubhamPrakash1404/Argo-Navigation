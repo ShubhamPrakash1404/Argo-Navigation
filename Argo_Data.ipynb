{
  "nbformat": 4,
  "nbformat_minor": 0,
  "metadata": {
    "colab": {
      "name": "Argo Data",
      "provenance": []
    },
    "kernelspec": {
      "name": "python3",
      "display_name": "Python 3"
    },
    "language_info": {
      "name": "python"
    }
  },
  "cells": [
    {
      "cell_type": "code",
      "source": [
        ""
      ],
      "metadata": {
        "id": "JD5s0RKEjmiX"
      },
      "execution_count": null,
      "outputs": []
    },
    {
      "cell_type": "code",
      "execution_count": 4,
      "metadata": {
        "colab": {
          "base_uri": "https://localhost:8080/"
        },
        "id": "Q6pKhpAhbr3i",
        "outputId": "b0a76347-8d9f-45f1-d285-0092445406d2"
      },
      "outputs": [
        {
          "output_type": "stream",
          "name": "stdout",
          "text": [
            "Drive already mounted at /content/drive/; to attempt to forcibly remount, call drive.mount(\"/content/drive/\", force_remount=True).\n"
          ]
        }
      ],
      "source": [
        "## Mounting google drive with the backend data\n",
        "import os\n",
        "from google.colab import drive\n",
        "drive.mount('/content/drive/')"
      ]
    },
    {
      "cell_type": "code",
      "source": [
        "!pip install pyspark "
      ],
      "metadata": {
        "colab": {
          "base_uri": "https://localhost:8080/"
        },
        "id": "XRSpKoBNfKTY",
        "outputId": "9d2c2924-21af-4d84-9089-c465e065389e"
      },
      "execution_count": 6,
      "outputs": [
        {
          "output_type": "stream",
          "name": "stdout",
          "text": [
            "Looking in indexes: https://pypi.org/simple, https://us-python.pkg.dev/colab-wheels/public/simple/\n",
            "Collecting pyspark\n",
            "  Downloading pyspark-3.2.1.tar.gz (281.4 MB)\n",
            "\u001b[K     |████████████████████████████████| 281.4 MB 35 kB/s \n",
            "\u001b[?25hCollecting py4j==0.10.9.3\n",
            "  Downloading py4j-0.10.9.3-py2.py3-none-any.whl (198 kB)\n",
            "\u001b[K     |████████████████████████████████| 198 kB 55.1 MB/s \n",
            "\u001b[?25hBuilding wheels for collected packages: pyspark\n",
            "  Building wheel for pyspark (setup.py) ... \u001b[?25l\u001b[?25hdone\n",
            "  Created wheel for pyspark: filename=pyspark-3.2.1-py2.py3-none-any.whl size=281853642 sha256=61b7ff9b1bbce814635d72bbc5debc414cec3dac9f8e5194042ce4cc5ca1240c\n",
            "  Stored in directory: /root/.cache/pip/wheels/9f/f5/07/7cd8017084dce4e93e84e92efd1e1d5334db05f2e83bcef74f\n",
            "Successfully built pyspark\n",
            "Installing collected packages: py4j, pyspark\n",
            "Successfully installed py4j-0.10.9.3 pyspark-3.2.1\n"
          ]
        }
      ]
    },
    {
      "cell_type": "code",
      "source": [
        "#Initializing Spark\n",
        "import os\n",
        "import sys\n",
        "spark_home = '/usr/local/spark' # point to your spark home dir\n",
        "os.environ['SPARK_home'] = spark_home\n",
        "sys.path.insert(0, spark_home + \"/python\")\n",
        "os.environ['PYSPARK_PYTHON'] = 'python3.5'\n",
        "\n",
        "\n",
        "confList = [\n",
        "    #[\"spark.streaming.unpersist\", \"true\"]           # Automated memory management for Streaming apps\n",
        "    [\"spark.driver.cores\",\"16\"]\n",
        "    ,[\"spark.driver.memory\",\"56g\"]\n",
        "    ,[\"spark.driver.maxResultSize\", \"500g\"]\n",
        "    ,[\"spark.executor.memory\",\"80g\"]               # Amount of memory for each executor (shared by all tasks in the executor)\n",
        "    ,[\"spark.mesos.coarse\", \"true\"]                 # Accept and hold a fixed amount of resource from Mesos\n",
        "    ,[\"spark.dynamicAllocation.enabled\",\"true\"]\n",
        "    ,[\"spark.dynamicAllocation.initialExecutors\",\"50\"]\n",
        "    ,[\"spark.dynamicAllocation.minExecutors\",\"50\"]\n",
        "    ,[\"spark.storage.memoryMapThreshold\",\"20g\"]\n",
        "#    ,[\"spark.serializer\",\"org.apache.spark.serializer.KryoSerializer\"] #Define Kryo as Base Serializer\n",
        "#    ,[\"spark.kryoserializer.buffer\",\"128k\"]         #Define base memory per node\n",
        "#    ,[\"spark.kryoserializer.buffer.max\",\"2047\"]  #Define max value that Kryo Serializer can run upto\n",
        "    ,[\"spark.rdd.compress\", \"true\"]                 # Enabling RDD compress to optimize storeage space\n",
        "#    ,[\"spark.cores.max\",32]                      # Defines the number of cores\n",
        "    ,[\"spark.executor.heartbeatInterval\", \"10000s\"]\n",
        "    ,[\"spark.network.timeout\", \"11000s\"]\n",
        "    ,[\"spark.shuffle.io.connectionTimeout\",\"10000s\"]\n",
        "    #,[\"spark.task.cpus\", \"4\"]\n",
        "    ,[\"spark.rpc.numRetries\", \"100\"]\n",
        "    ,[\"spark.task.maxFailures\", \"10\"]\n",
        "    ,[\"spark.executors.max\",\"40\"]\n",
        "    ,[\"spark.memory.fraction\",\"0.8\"]\n",
        "#    ,[\"spark.shuffle.io.connectionTimeout\",\"120s\"]\n",
        "    ,[\"spark.shuffle.file.buffer\",\"128k\"]\n",
        "    ,[\"spark.shuffle.compress\",\"true\"]\n",
        "    ,[\"spark.shuffle.spill.compress\",\"true\"]\n",
        "]\n",
        "from pyspark import SparkConf, SparkContext\n",
        "from pyspark.sql import SparkSession, Row\n",
        "SPARK_CONF = SparkConf().setAppName(\"Argo_data\").setAll(confList)\n",
        "spark = SparkSession.builder    .config(conf=SPARK_CONF)     .enableHiveSupport().getOrCreate()\n",
        "print(\"Spark session initialized\")\n",
        "\n",
        "spark.sql('set hive.exec.dynamic.partition.mode=nonstrict')\n",
        "spark.sql('set    hive.tez.container.size=40240')\n",
        "spark.sql('set    hive.tez.java.opts=-Xmx32000m')\n",
        "spark.sql('set    hive.optimize.skewjoin=true')\n",
        "spark.sql('set    hive.skewjoin.key=25000000')\n",
        "spark.sql('set    hive.exec.reducers.max=10000')\n",
        "spark.sql('set    hive.exec.reducers.bytes.per.reducer=128000000')\n",
        "spark.sql('set    tez.runtime.shuffle.max.allowed.failed.fetch.fraction=0.95')\n",
        "#spark.sql('set    tez.runtime.shuffle.failed.check.since-last.completion=false')\n",
        "spark.sql('set    tez.runtime.shuffle.fetch.buffer.percent=0.1')\n",
        "spark.sql('set    tez.runtime.shuffle.memory.limit.percent=0.25')\n",
        "spark.sql('set    hive.exec.max.dynamic.partitions=500000')\n",
        "spark.sql('set    hive.exec.max.dynamic.partitions.pernode=500000')"
      ],
      "metadata": {
        "colab": {
          "base_uri": "https://localhost:8080/"
        },
        "id": "eUJGSOadeQmL",
        "outputId": "4618b26e-518c-4d61-ca79-6c10f672cdb0"
      },
      "execution_count": 8,
      "outputs": [
        {
          "output_type": "stream",
          "name": "stdout",
          "text": [
            "Spark session initialized\n"
          ]
        },
        {
          "output_type": "execute_result",
          "data": {
            "text/plain": [
              "DataFrame[key: string, value: string]"
            ]
          },
          "metadata": {},
          "execution_count": 8
        }
      ]
    },
    {
      "cell_type": "markdown",
      "source": [
        "**User History Data**"
      ],
      "metadata": {
        "id": "Vufh6-afpNSM"
      }
    },
    {
      "cell_type": "code",
      "source": [
        "## Reading Backend Data\n",
        "df=spark.read.csv('/content/drive/MyDrive/Backend Data CSVs/user_history_data.csv',header=True)"
      ],
      "metadata": {
        "id": "yw6-ZJdLfoOY"
      },
      "execution_count": 12,
      "outputs": []
    },
    {
      "cell_type": "code",
      "source": [
        "## Storing backend data into a temporary View\n",
        "df.createOrReplaceTempView('user_history_data')"
      ],
      "metadata": {
        "id": "97tos0zIgg2x"
      },
      "execution_count": 14,
      "outputs": []
    },
    {
      "cell_type": "code",
      "source": [
        "## Looking at the table\n",
        "df.show()"
      ],
      "metadata": {
        "colab": {
          "base_uri": "https://localhost:8080/"
        },
        "id": "edmdjQI5j4ed",
        "outputId": "1c2c1c94-68da-47ba-ed0f-c75ccef3be42"
      },
      "execution_count": 20,
      "outputs": [
        {
          "output_type": "stream",
          "name": "stdout",
          "text": [
            "+---+-------+--------------+--------------+---------------+--------------------+--------+--------------------+--------------------+--------------------+-----------+\n",
            "| id|user_id|    first_name|     last_name|       username|               email|provider|       creation_date|       session_start|         session_end|start_depth|\n",
            "+---+-------+--------------+--------------+---------------+--------------------+--------+--------------------+--------------------+--------------------+-----------+\n",
            "|  1|   null|       Matthew|      Lowinger|          mlow |matthew.lowinger@...|   email|2019-08-16 12:28:...|2020-01-06 18:07:...|                null|       null|\n",
            "|  2|   null|       Matthew|      Lowinger|          mlow |matthew.lowinger@...|   email|2019-08-16 12:28:...|2020-01-06 18:07:...|2020-01-06 18:07:...|       null|\n",
            "|  3|   null|       Matthew|      Lowinger|          mlow |matthew.lowinger@...|   email|2019-08-16 12:28:...|2020-01-06 18:08:...|2020-01-06 18:08:...|       null|\n",
            "|  4|   null|       Matthew|      Lowinger|          mlow |matthew.lowinger@...|   email|2019-08-16 12:28:...|2020-01-06 18:08:...|2020-01-06 18:09:...|       null|\n",
            "|  5|   null|       Matthew|      Lowinger|          mlow |matthew.lowinger@...|   email|2019-08-16 12:28:...|2020-01-06 18:11:...|2020-01-06 18:11:...|       null|\n",
            "|  6|    707|Android Test 1|Android Test 1| android_test_1|    admin@argonav.io|   email|2019-12-18 20:01:...|2020-01-06 18:17:...|2020-01-06 18:19:...|       null|\n",
            "|  7|   null| iPhone-Test 1| iPhone-Test 1|  iphone_test_1|     info@argonav.io|   email|2019-12-18 19:44:...|2020-01-06 18:19:...|2020-01-06 18:21:...|       null|\n",
            "|  8|   null| iPhone-Test 1| iPhone-Test 1|  iphone_test_1|     info@argonav.io|   email|2019-12-18 19:44:...|2020-01-06 18:21:...|2020-01-06 18:21:...|       null|\n",
            "|  9|    707|Android Test 1|Android Test 1| android_test_1|    admin@argonav.io|   email|2019-12-18 20:01:...|2020-01-06 18:21:...|2020-01-06 18:21:...|       null|\n",
            "| 10|    707|Android Test 1|Android Test 1| android_test_1|    admin@argonav.io|   email|2019-12-18 20:01:...|2020-01-06 18:21:...|2020-01-06 18:21:...|       null|\n",
            "| 11|     18|        Cooper|        Luetje|  cooper_luetje|koopaluigi@hotmai...|   email|2019-03-05 20:34:...|2020-01-06 18:56:...|2020-01-06 18:56:...|       null|\n",
            "| 12|     19|        Cooper|        Luetje|cooper_luetje_2| cooper@bytelion.com|  google|2019-03-05 20:35:...|2020-01-06 18:57:...|2020-01-06 18:57:...|       null|\n",
            "| 13|     18|        Cooper|        Luetje|  cooper_luetje|koopaluigi@hotmai...|   email|2019-03-05 20:34:...|2020-01-06 18:57:...|2020-01-06 18:58:...|       null|\n",
            "| 14|     19|        Cooper|        Luetje|cooper_luetje_2| cooper@bytelion.com|  google|2019-03-05 20:35:...|2020-01-06 18:59:...|2020-01-06 19:00:...|       null|\n",
            "| 15|     18|        Cooper|        Luetje|  cooper_luetje|koopaluigi@hotmai...|   email|2019-03-05 20:34:...|2020-01-06 18:59:...|2020-01-06 18:59:...|       null|\n",
            "| 16|     18|        Cooper|        Luetje|  cooper_luetje|koopaluigi@hotmai...|   email|2019-03-05 20:34:...|2020-01-06 18:59:...|2020-01-06 18:59:...|       null|\n",
            "| 17|     18|        Cooper|        Luetje|  cooper_luetje|koopaluigi@hotmai...|   email|2019-03-05 20:34:...|2020-01-06 19:00:...|2020-01-06 19:00:...|       null|\n",
            "| 18|     18|        Cooper|        Luetje|  cooper_luetje|koopaluigi@hotmai...|   email|2019-03-05 20:34:...|2020-01-06 19:00:...|2020-01-06 19:01:...|       null|\n",
            "| 19|     19|        Cooper|        Luetje|cooper_luetje_2| cooper@bytelion.com|  google|2019-03-05 20:35:...|2020-01-06 19:00:...|2020-01-06 19:01:...|       null|\n",
            "| 20|     18|        Cooper|        Luetje|  cooper_luetje|koopaluigi@hotmai...|   email|2019-03-05 20:34:...|2020-01-06 19:01:...|2020-01-06 19:01:...|       null|\n",
            "+---+-------+--------------+--------------+---------------+--------------------+--------+--------------------+--------------------+--------------------+-----------+\n",
            "only showing top 20 rows\n",
            "\n"
          ]
        }
      ]
    },
    {
      "cell_type": "code",
      "source": [
        "## Checking for nulls in userid\n",
        "spark.sql(\"\"\"select count(*),sum(case when user_id is null then 1 else 0 end) from user_history_data\"\"\").show()"
      ],
      "metadata": {
        "colab": {
          "base_uri": "https://localhost:8080/"
        },
        "id": "2d2g9bJZgz99",
        "outputId": "92858f97-8bed-40cd-dd91-e682f0f00be0"
      },
      "execution_count": 18,
      "outputs": [
        {
          "output_type": "stream",
          "name": "stdout",
          "text": [
            "+--------+--------------------------------------------------+\n",
            "|count(1)|sum(CASE WHEN (user_id IS NULL) THEN 1 ELSE 0 END)|\n",
            "+--------+--------------------------------------------------+\n",
            "| 1207441|                                              4198|\n",
            "+--------+--------------------------------------------------+\n",
            "\n"
          ]
        }
      ]
    },
    {
      "cell_type": "code",
      "source": [
        "4198/1207441"
      ],
      "metadata": {
        "colab": {
          "base_uri": "https://localhost:8080/"
        },
        "id": "nob6puRDkDiM",
        "outputId": "b404672f-590e-4dc4-970d-797dfdc539b7"
      },
      "execution_count": 21,
      "outputs": [
        {
          "output_type": "execute_result",
          "data": {
            "text/plain": [
              "0.0034767744345272356"
            ]
          },
          "metadata": {},
          "execution_count": 21
        }
      ]
    },
    {
      "cell_type": "code",
      "source": [
        "spark.sql(\"\"\"select distinct creation_date from user_history_data where user_id=7501\"\"\").show()"
      ],
      "metadata": {
        "colab": {
          "base_uri": "https://localhost:8080/"
        },
        "id": "77mcH3OvkNQa",
        "outputId": "bec9b80f-38c1-450a-9df1-b706fdcdc0fc"
      },
      "execution_count": 27,
      "outputs": [
        {
          "output_type": "stream",
          "name": "stdout",
          "text": [
            "+--------------------+\n",
            "|       creation_date|\n",
            "+--------------------+\n",
            "|2020-08-30 12:48:...|\n",
            "+--------------------+\n",
            "\n"
          ]
        }
      ]
    },
    {
      "cell_type": "code",
      "source": [
        "dfp=df.toPandas()"
      ],
      "metadata": {
        "id": "6YgJ02m6nDZO"
      },
      "execution_count": 35,
      "outputs": []
    },
    {
      "cell_type": "code",
      "source": [
        "dfp.describe()"
      ],
      "metadata": {
        "colab": {
          "base_uri": "https://localhost:8080/",
          "height": 254
        },
        "id": "Mld8vrBgmN3A",
        "outputId": "b6bd4ddb-8500-4003-8ff4-09ee752e758b"
      },
      "execution_count": 39,
      "outputs": [
        {
          "output_type": "execute_result",
          "data": {
            "text/plain": [
              "             id  user_id first_name last_name username            email  \\\n",
              "count   1207441  1203243    1207441   1207441  1207441          1207441   \n",
              "unique  1207441    42444       8847     23354    43266            42475   \n",
              "top           1       54       John     Foulk     Argo  jeff@argonav.io   \n",
              "freq          1    11396      22994     13129    11365            11396   \n",
              "\n",
              "       provider            creation_date            session_start  \\\n",
              "count   1207441                  1207441                  1207441   \n",
              "unique        4                    42544                  1038093   \n",
              "top       email  2019-05-17 15:46:27 UTC  2021-09-08 01:14:08 UTC   \n",
              "freq     473158                    11396                       34   \n",
              "\n",
              "                    session_end start_depth  \n",
              "count                    690048     1036720  \n",
              "unique                   660503       33436  \n",
              "top     2021-09-09 15:11:38 UTC         0.0  \n",
              "freq                         25      732289  "
            ],
            "text/html": [
              "\n",
              "  <div id=\"df-4bd191dd-a4a1-4f79-a239-e01b943fe3fe\">\n",
              "    <div class=\"colab-df-container\">\n",
              "      <div>\n",
              "<style scoped>\n",
              "    .dataframe tbody tr th:only-of-type {\n",
              "        vertical-align: middle;\n",
              "    }\n",
              "\n",
              "    .dataframe tbody tr th {\n",
              "        vertical-align: top;\n",
              "    }\n",
              "\n",
              "    .dataframe thead th {\n",
              "        text-align: right;\n",
              "    }\n",
              "</style>\n",
              "<table border=\"1\" class=\"dataframe\">\n",
              "  <thead>\n",
              "    <tr style=\"text-align: right;\">\n",
              "      <th></th>\n",
              "      <th>id</th>\n",
              "      <th>user_id</th>\n",
              "      <th>first_name</th>\n",
              "      <th>last_name</th>\n",
              "      <th>username</th>\n",
              "      <th>email</th>\n",
              "      <th>provider</th>\n",
              "      <th>creation_date</th>\n",
              "      <th>session_start</th>\n",
              "      <th>session_end</th>\n",
              "      <th>start_depth</th>\n",
              "    </tr>\n",
              "  </thead>\n",
              "  <tbody>\n",
              "    <tr>\n",
              "      <th>count</th>\n",
              "      <td>1207441</td>\n",
              "      <td>1203243</td>\n",
              "      <td>1207441</td>\n",
              "      <td>1207441</td>\n",
              "      <td>1207441</td>\n",
              "      <td>1207441</td>\n",
              "      <td>1207441</td>\n",
              "      <td>1207441</td>\n",
              "      <td>1207441</td>\n",
              "      <td>690048</td>\n",
              "      <td>1036720</td>\n",
              "    </tr>\n",
              "    <tr>\n",
              "      <th>unique</th>\n",
              "      <td>1207441</td>\n",
              "      <td>42444</td>\n",
              "      <td>8847</td>\n",
              "      <td>23354</td>\n",
              "      <td>43266</td>\n",
              "      <td>42475</td>\n",
              "      <td>4</td>\n",
              "      <td>42544</td>\n",
              "      <td>1038093</td>\n",
              "      <td>660503</td>\n",
              "      <td>33436</td>\n",
              "    </tr>\n",
              "    <tr>\n",
              "      <th>top</th>\n",
              "      <td>1</td>\n",
              "      <td>54</td>\n",
              "      <td>John</td>\n",
              "      <td>Foulk</td>\n",
              "      <td>Argo</td>\n",
              "      <td>jeff@argonav.io</td>\n",
              "      <td>email</td>\n",
              "      <td>2019-05-17 15:46:27 UTC</td>\n",
              "      <td>2021-09-08 01:14:08 UTC</td>\n",
              "      <td>2021-09-09 15:11:38 UTC</td>\n",
              "      <td>0.0</td>\n",
              "    </tr>\n",
              "    <tr>\n",
              "      <th>freq</th>\n",
              "      <td>1</td>\n",
              "      <td>11396</td>\n",
              "      <td>22994</td>\n",
              "      <td>13129</td>\n",
              "      <td>11365</td>\n",
              "      <td>11396</td>\n",
              "      <td>473158</td>\n",
              "      <td>11396</td>\n",
              "      <td>34</td>\n",
              "      <td>25</td>\n",
              "      <td>732289</td>\n",
              "    </tr>\n",
              "  </tbody>\n",
              "</table>\n",
              "</div>\n",
              "      <button class=\"colab-df-convert\" onclick=\"convertToInteractive('df-4bd191dd-a4a1-4f79-a239-e01b943fe3fe')\"\n",
              "              title=\"Convert this dataframe to an interactive table.\"\n",
              "              style=\"display:none;\">\n",
              "        \n",
              "  <svg xmlns=\"http://www.w3.org/2000/svg\" height=\"24px\"viewBox=\"0 0 24 24\"\n",
              "       width=\"24px\">\n",
              "    <path d=\"M0 0h24v24H0V0z\" fill=\"none\"/>\n",
              "    <path d=\"M18.56 5.44l.94 2.06.94-2.06 2.06-.94-2.06-.94-.94-2.06-.94 2.06-2.06.94zm-11 1L8.5 8.5l.94-2.06 2.06-.94-2.06-.94L8.5 2.5l-.94 2.06-2.06.94zm10 10l.94 2.06.94-2.06 2.06-.94-2.06-.94-.94-2.06-.94 2.06-2.06.94z\"/><path d=\"M17.41 7.96l-1.37-1.37c-.4-.4-.92-.59-1.43-.59-.52 0-1.04.2-1.43.59L10.3 9.45l-7.72 7.72c-.78.78-.78 2.05 0 2.83L4 21.41c.39.39.9.59 1.41.59.51 0 1.02-.2 1.41-.59l7.78-7.78 2.81-2.81c.8-.78.8-2.07 0-2.86zM5.41 20L4 18.59l7.72-7.72 1.47 1.35L5.41 20z\"/>\n",
              "  </svg>\n",
              "      </button>\n",
              "      \n",
              "  <style>\n",
              "    .colab-df-container {\n",
              "      display:flex;\n",
              "      flex-wrap:wrap;\n",
              "      gap: 12px;\n",
              "    }\n",
              "\n",
              "    .colab-df-convert {\n",
              "      background-color: #E8F0FE;\n",
              "      border: none;\n",
              "      border-radius: 50%;\n",
              "      cursor: pointer;\n",
              "      display: none;\n",
              "      fill: #1967D2;\n",
              "      height: 32px;\n",
              "      padding: 0 0 0 0;\n",
              "      width: 32px;\n",
              "    }\n",
              "\n",
              "    .colab-df-convert:hover {\n",
              "      background-color: #E2EBFA;\n",
              "      box-shadow: 0px 1px 2px rgba(60, 64, 67, 0.3), 0px 1px 3px 1px rgba(60, 64, 67, 0.15);\n",
              "      fill: #174EA6;\n",
              "    }\n",
              "\n",
              "    [theme=dark] .colab-df-convert {\n",
              "      background-color: #3B4455;\n",
              "      fill: #D2E3FC;\n",
              "    }\n",
              "\n",
              "    [theme=dark] .colab-df-convert:hover {\n",
              "      background-color: #434B5C;\n",
              "      box-shadow: 0px 1px 3px 1px rgba(0, 0, 0, 0.15);\n",
              "      filter: drop-shadow(0px 1px 2px rgba(0, 0, 0, 0.3));\n",
              "      fill: #FFFFFF;\n",
              "    }\n",
              "  </style>\n",
              "\n",
              "      <script>\n",
              "        const buttonEl =\n",
              "          document.querySelector('#df-4bd191dd-a4a1-4f79-a239-e01b943fe3fe button.colab-df-convert');\n",
              "        buttonEl.style.display =\n",
              "          google.colab.kernel.accessAllowed ? 'block' : 'none';\n",
              "\n",
              "        async function convertToInteractive(key) {\n",
              "          const element = document.querySelector('#df-4bd191dd-a4a1-4f79-a239-e01b943fe3fe');\n",
              "          const dataTable =\n",
              "            await google.colab.kernel.invokeFunction('convertToInteractive',\n",
              "                                                     [key], {});\n",
              "          if (!dataTable) return;\n",
              "\n",
              "          const docLinkHtml = 'Like what you see? Visit the ' +\n",
              "            '<a target=\"_blank\" href=https://colab.research.google.com/notebooks/data_table.ipynb>data table notebook</a>'\n",
              "            + ' to learn more about interactive tables.';\n",
              "          element.innerHTML = '';\n",
              "          dataTable['output_type'] = 'display_data';\n",
              "          await google.colab.output.renderOutput(dataTable, element);\n",
              "          const docLink = document.createElement('div');\n",
              "          docLink.innerHTML = docLinkHtml;\n",
              "          element.appendChild(docLink);\n",
              "        }\n",
              "      </script>\n",
              "    </div>\n",
              "  </div>\n",
              "  "
            ]
          },
          "metadata": {},
          "execution_count": 39
        }
      ]
    },
    {
      "cell_type": "code",
      "source": [
        "dfp.isnull().sum(axis=0)"
      ],
      "metadata": {
        "colab": {
          "base_uri": "https://localhost:8080/"
        },
        "id": "HIXAoYFgnZd9",
        "outputId": "5486d238-80c4-4494-edee-3cb196f9f35a"
      },
      "execution_count": 40,
      "outputs": [
        {
          "output_type": "execute_result",
          "data": {
            "text/plain": [
              "id                    0\n",
              "user_id            4198\n",
              "first_name            0\n",
              "last_name             0\n",
              "username              0\n",
              "email                 0\n",
              "provider              0\n",
              "creation_date         0\n",
              "session_start         0\n",
              "session_end      517393\n",
              "start_depth      170721\n",
              "dtype: int64"
            ]
          },
          "metadata": {},
          "execution_count": 40
        }
      ]
    },
    {
      "cell_type": "code",
      "source": [
        "dfp.count()"
      ],
      "metadata": {
        "colab": {
          "base_uri": "https://localhost:8080/"
        },
        "id": "rk6Scg3pn0pC",
        "outputId": "756af865-98e3-47ef-c583-106f20e783e7"
      },
      "execution_count": 41,
      "outputs": [
        {
          "output_type": "execute_result",
          "data": {
            "text/plain": [
              "id               1207441\n",
              "user_id          1203243\n",
              "first_name       1207441\n",
              "last_name        1207441\n",
              "username         1207441\n",
              "email            1207441\n",
              "provider         1207441\n",
              "creation_date    1207441\n",
              "session_start    1207441\n",
              "session_end       690048\n",
              "start_depth      1036720\n",
              "dtype: int64"
            ]
          },
          "metadata": {},
          "execution_count": 41
        }
      ]
    },
    {
      "cell_type": "code",
      "source": [
        "517393/1207441"
      ],
      "metadata": {
        "colab": {
          "base_uri": "https://localhost:8080/"
        },
        "id": "x-8urMQln7dn",
        "outputId": "1ff49fb5-ce4e-49b8-8552-3b067de7aa61"
      },
      "execution_count": 42,
      "outputs": [
        {
          "output_type": "execute_result",
          "data": {
            "text/plain": [
              "0.42850375297840637"
            ]
          },
          "metadata": {},
          "execution_count": 42
        }
      ]
    },
    {
      "cell_type": "code",
      "source": [
        "170721/1207441"
      ],
      "metadata": {
        "colab": {
          "base_uri": "https://localhost:8080/"
        },
        "id": "OV2z02tWoCWx",
        "outputId": "b18351b2-bff5-4e90-ec7c-47a04a414fad"
      },
      "execution_count": 49,
      "outputs": [
        {
          "output_type": "execute_result",
          "data": {
            "text/plain": [
              "0.1413907594656799"
            ]
          },
          "metadata": {},
          "execution_count": 49
        }
      ]
    },
    {
      "cell_type": "code",
      "source": [
        ""
      ],
      "metadata": {
        "id": "_BiDKvLYoskO"
      },
      "execution_count": null,
      "outputs": []
    },
    {
      "cell_type": "code",
      "source": [
        "spark.sql(\"\"\"select count(*) from user_history_data where start_depth is null\"\"\").show()"
      ],
      "metadata": {
        "colab": {
          "base_uri": "https://localhost:8080/"
        },
        "id": "eEG3gHBwoIiQ",
        "outputId": "9dbad5fa-85d8-4b31-ddd7-efe5208af123"
      },
      "execution_count": 48,
      "outputs": [
        {
          "output_type": "stream",
          "name": "stdout",
          "text": [
            "+--------+\n",
            "|count(1)|\n",
            "+--------+\n",
            "|  170721|\n",
            "+--------+\n",
            "\n"
          ]
        }
      ]
    },
    {
      "cell_type": "code",
      "source": [
        "spark.sql(\"\"\"select count(*) from user_history_data where start_depth=0\"\"\").show()"
      ],
      "metadata": {
        "colab": {
          "base_uri": "https://localhost:8080/"
        },
        "id": "vO16Bh1Xon3Z",
        "outputId": "cf17b042-40ce-4acc-d08c-bf0afb125802"
      },
      "execution_count": 50,
      "outputs": [
        {
          "output_type": "stream",
          "name": "stdout",
          "text": [
            "+--------+\n",
            "|count(1)|\n",
            "+--------+\n",
            "|  811050|\n",
            "+--------+\n",
            "\n"
          ]
        }
      ]
    },
    {
      "cell_type": "code",
      "source": [
        "811050/1207441"
      ],
      "metadata": {
        "colab": {
          "base_uri": "https://localhost:8080/"
        },
        "id": "aGZ-cz6yo1C0",
        "outputId": "a92fb946-4a51-43d5-dd8c-0725266adf73"
      },
      "execution_count": 51,
      "outputs": [
        {
          "output_type": "execute_result",
          "data": {
            "text/plain": [
              "0.6717098392385218"
            ]
          },
          "metadata": {},
          "execution_count": 51
        }
      ]
    },
    {
      "cell_type": "code",
      "source": [
        ""
      ],
      "metadata": {
        "id": "9rE7aqlTo3x-"
      },
      "execution_count": null,
      "outputs": []
    },
    {
      "cell_type": "code",
      "source": [
        "225278/1207441"
      ],
      "metadata": {
        "colab": {
          "base_uri": "https://localhost:8080/"
        },
        "id": "Y7x21I2Pofgk",
        "outputId": "8aa47c2f-dc1b-4522-948a-2e6960369c1e"
      },
      "execution_count": 47,
      "outputs": [
        {
          "output_type": "execute_result",
          "data": {
            "text/plain": [
              "0.18657474775164998"
            ]
          },
          "metadata": {},
          "execution_count": 47
        }
      ]
    },
    {
      "cell_type": "code",
      "source": [
        ""
      ],
      "metadata": {
        "id": "FB20xtbyojd5"
      },
      "execution_count": null,
      "outputs": []
    },
    {
      "cell_type": "markdown",
      "source": [
        "**User Data**"
      ],
      "metadata": {
        "id": "ixhcnsH_pUM-"
      }
    },
    {
      "cell_type": "code",
      "source": [
        "## Reading Backend Data\n",
        "df=spark.read.csv('/content/drive/MyDrive/Backend Data CSVs/user_data.csv',header=True)"
      ],
      "metadata": {
        "id": "TGBSN_WkoaBy"
      },
      "execution_count": 52,
      "outputs": []
    },
    {
      "cell_type": "code",
      "source": [
        "## Storing backend data into a temporary View\n",
        "df.createOrReplaceTempView('user_data')"
      ],
      "metadata": {
        "id": "ySHLI_fmpblc"
      },
      "execution_count": 53,
      "outputs": []
    },
    {
      "cell_type": "code",
      "source": [
        "df.show()"
      ],
      "metadata": {
        "colab": {
          "base_uri": "https://localhost:8080/"
        },
        "id": "DBceGg7Fpf53",
        "outputId": "477c73f5-1ab4-481b-dc87-6696b01d08a1"
      },
      "execution_count": 54,
      "outputs": [
        {
          "output_type": "stream",
          "name": "stdout",
          "text": [
            "+---+--------+--------------------+--------------------+--------------------+----------------------+---------------------+-------------------+-------------+--------------------+--------------------+------------------+---------------+--------------------+--------------------+--------------------+-----------------+----------+-----------+-----------------+--------------------+--------------------+--------------------+--------------------+--------------------+--------------------+--------------------+--------------------+--------------------+--------------------+--------------------+--------------------+-------------------------+\n",
            "| id|provider|                 uid|  encrypted_password|reset_password_token|reset_password_sent_at|allow_password_change|remember_created_at|sign_in_count|  current_sign_in_at|     last_sign_in_at|current_sign_in_ip|last_sign_in_ip|  confirmation_token|        confirmed_at|confirmation_sent_at|unconfirmed_email|first_name|  last_name|         username|               image|               email|              tokens|          created_at|          updated_at|          push_token|                 lat|                 lng|             heading|               depth|             blocked|          deleted_at|reset_password_token_base|\n",
            "+---+--------+--------------------+--------------------+--------------------+----------------------+---------------------+-------------------+-------------+--------------------+--------------------+------------------+---------------+--------------------+--------------------+--------------------+-----------------+----------+-----------+-----------------+--------------------+--------------------+--------------------+--------------------+--------------------+--------------------+--------------------+--------------------+--------------------+--------------------+--------------------+--------------------+-------------------------+\n",
            "| 18|   email|koopaluigi@hotmai...|$2a$11$Kc080hXlGR...|df42abae0350a89fa...|  2020-09-13 15:27:...|                false|               null|           19|2020-07-01 12:32:...|2020-06-29 17:08:...|     73.163.73.172|  73.163.73.172|3qXYi5vB87Xmx92KQp9D|2019-03-05 20:34:...|2019-03-05 20:34:...|             null|    Cooper|     Luetje|    cooper_luetje|                null|koopaluigi@hotmai...|                  {}|2019-03-05 20:34:...|2020-09-13 15:27:...|ExponentPushToken...|           39.403203|          -76.960289|    245.617552918142|                null|               false|                null|                     null|\n",
            "| 19|  google|11101936695699522...|$2a$11$5NPawtD2CP...|                null|                  null|                false|               null|           68|2021-02-16 15:20:...|2020-12-29 14:54:...|    69.251.137.227|  73.163.73.172|                null|2019-03-05 20:35:...|                null|             null|    Cooper|     Luetje|  cooper_luetje_2|https://lh5.googl...| cooper@bytelion.com|\"{\"\"caf41z4rrlQ-h...| \"\"crud_token\"\"=>...| \"\"expiry\"\"=>1625...| \"\"last_token\"\"=>...| \"\"updated_at\"\"=>...|2019-03-05 20:35:...|2021-06-19 04:58:...|ExponentPushToken...|           39.610062|          -77.292493|         122.920692741472|\n",
            "| 21|   email|sshani33@verizon.net|$2a$11$EfErEOvhmL...|                null|                  null|                false|               null|            1|2021-07-06 23:36:...|2021-07-06 23:36:...|    204.111.209.58| 204.111.209.58|dntL2sXficRVDaLHrmcx|2021-07-06 23:32:...|2019-03-05 21:33:...|             null|   Sharone|      Shani|           Sshani|                null|sshani33@verizon.net|\"{\"\"HUd-gC68sHg0m...| \"\"crud_token\"\"=>...| \"\"expiry\"\"=>1631...| \"\"last_token\"\"=>...| \"\"updated_at\"\"=>...|2019-03-05 21:33:...|2021-08-13 18:07:...|ExponentPushToken...|           39.224555|          -76.792023|          151.95984700697|\n",
            "| 23|  google|11488822492895705...|$2a$11$qcSavXOhZi...|                null|                  null|                false|               null|           21|2021-11-15 01:27:...|2021-11-15 01:27:...|    73.212.212.208| 73.212.212.208|                null|2019-03-06 12:20:...|                null|             null|   Matthew|      Foulk|    matthew_foulk|https://lh6.googl...|mewuzhere12@gmail...|\"{\"\"gzqIAqluLfE4q...| \"\"crud_token\"\"=>...| \"\"expiry\"\"=>1651...| \"\"last_token\"\"=>...| \"\"updated_at\"\"=>...|2019-03-06 12:20:...|2022-04-08 20:51:...|ExponentPushToken...|           38.999212|          -76.889816|         40.2825268556953|\n",
            "| 24|  google|10154518217266481...|$2a$11$pv0pN4X6yi...|                null|                  null|                false|               null|            2|2019-03-22 14:31:...|2019-03-06 18:54:...|     174.205.8.161|  174.205.16.99|                null|2019-03-06 18:54:...|                null|             null|   Sharone|      Shani|    sharone_shani|https://lh3.googl...|sharone@bytelion.com|\"{\"\"emZzWzhJSAHfM...| \"\"expiry\"\"=>1557...| \"\"4Z_DWdp6kAGobj...| \"\"expiry\"\"=>1557...| \"\"p1CPP8Xb0loGKw...| \"\"expiry\"\"=>1558...|2019-03-06 18:54:...|2019-05-04 14:58:...|                null|                null|                     null|\n",
            "| 27|  google|11114408512478717...|$2a$11$0D6.WR8rzw...|                null|                  null|                false|               null|            6|2020-05-14 19:11:...|2020-04-19 22:56:...|     73.87.121.217|  68.33.123.229|                null|2019-03-09 00:16:...|                null|             null|     Bobby|      Hough|      bobby_hough|https://lh4.googl...|  bobby@bytelion.com|\"{\"\"_kVQ7JxAc7hx3...| \"\"expiry\"\"=>1610...| \"\"last_token\"\"=>...| \"\"updated_at\"\"=>...| 22 Dec 2020 16:3...| \"\"dwO9T_Yx7YHcNv...| \"\"expiry\"\"=>1611...| \"\"last_token\"\"=>...| \"\"updated_at\"\"=>...| 31 Dec 2020 05:4...|      \"\"6Bag0HLmNmH-GV...|\n",
            "| 29|   email|naty_lv18@hotmail...|$2a$11$HQ88M5RO8a...|eDYdAfrqXMtxswzdL9GP|  2019-11-25 12:37:...|                 true|               null|          117|2019-11-27 11:02:...|2019-11-27 11:01:...|    186.136.131.96| 186.136.131.96|VDhKbwx_HoRDkrpnYTXV|2019-03-12 13:05:...|2019-03-12 13:04:...|             null|   Natalia|          V|           Natylv|https://argo-prod...|naty_lv18@hotmail...|\"{\"\"ABJ5MBaaUufQ-...| \"\"expiry\"\"=>1575...| \"\"QX8hCyAokQFKP3...| \"\"expiry\"\"=>1575...| \"\"GuXsqRg2S-q5ms...| \"\"expiry\"\"=>1575...| \"\"KRTfF3qpJXh3IL...| \"\"expiry\"\"=>1575...| \"\"nU7OH56lZBT6e6...| \"\"expiry\"\"=>1575...|      \"\"A6e3XoNX2Dhlo6...|\n",
            "| 40|facebook|   10213091524595021|$2a$11$poMQoShJZZ...|                null|                  null|                false|               null|           12|2020-12-17 01:14:...|2020-07-01 19:27:...|     73.163.73.172|  73.163.73.172|                null|2019-03-21 13:17:...|                null|             null|    Cooper|     Luetje|  cooper_luetje_3|https://platform-...|skaterdude1495@ao...|\"{\"\"YyTZCv5naUQad...| \"\"expiry\"\"=>1611...| \"\"last_token\"\"=>...| \"\"updated_at\"\"=>...| 29 Dec 2020 14:5...|2019-03-21 13:17:...|2020-12-29 14:53:...|ExponentPushToken...|           39.403254|          -76.960157|         257.727369308892|\n",
            "| 41|  google|10893712694114158...|$2a$11$GotDkuidAF...|                null|                  null|                false|               null|            6|2019-11-14 21:53:...|2019-08-29 14:39:...|       50.76.27.78|    50.76.27.78|                null|2019-03-21 14:05:...|                null|             null|      Marc|     Hausle|      marc_hausle|https://lh3.googl...|   haus186@gmail.com|\"{\"\"_EXJKghDV6dOG...| \"\"crud_token\"\"=>...| \"\"expiry\"\"=>1620...| \"\"last_token\"\"=>...| \"\"updated_at\"\"=>...|2019-03-21 14:05:...|2021-04-08 16:40:...|ExponentPushToken...|           39.551867|          -76.431735|         127.349349079731|\n",
            "| 42|facebook|    1244243105754069|$2a$11$6eItbip7D8...|                null|                  null|                false|               null|           10|2021-07-12 21:00:...|2020-01-28 19:00:...|     73.133.88.130| 69.251.137.227|                null|2019-03-21 16:16:...|                null|             null|     Bobby|      Hough|   bobby_hough_21|https://argo-prod...| houghbobby@live.com|\"{\"\"xqDbAlCNC2qoR...| \"\"crud_token\"\"=>...| \"\"expiry\"\"=>1631...| \"\"last_token\"\"=>...| \"\"updated_at\"\"=>...| \"\"fb_token\"\"=>\"\"...| \"\"vKX0-Jlv6q5Nd2...| \"\"crud_token\"\"=>...| \"\"expiry\"\"=>1631...| \"\"fb_token\"\"=>\"\"...|     2019-03-21 16:16:...|\n",
            "| 43|   email| butkiewiczm@aol.com|$2a$11$Ds2boOU29Y...|                null|                  null|                false|               null|            6|2020-12-13 01:21:...|2020-07-16 01:13:...|      72.23.206.25|   72.23.206.25|o8nTyq6haeVvNbi1jGwt|2019-03-26 01:00:...|2019-03-26 00:59:...|             null|      Mark|Butkiewicz |       butkiewicz|                null| butkiewiczm@aol.com|\"{\"\"4fYUFxMhWxQYi...| \"\"expiry\"\"=>1610...| \"\"last_token\"\"=>...| \"\"updated_at\"\"=>...| 15 Dec 2020 12:3...|2019-03-26 00:59:...|2020-12-15 12:39:...|ExponentPushToken...|           39.688288|          -75.988438|         234.816632998989|\n",
            "| 44|facebook|     101701041014200|$2a$11$H3BYzi7L0S...|                null|                  null|                false|               null|           11|2021-04-02 20:50:...|2021-04-02 20:49:...|       186.73.1.72|    186.73.1.72|                null|2019-03-26 19:32:...|                null|             null|     Bella|      Perez|      bella_perez|https://platform-...|                null|\"{\"\"k4-NORywe5G3Q...| \"\"crud_token\"\"=>...| \"\"expiry\"\"=>1618...| \"\"fb_token\"\"=>\"\"...| \"\"xlq-uWPW6-L6VM...| \"\"crud_token\"\"=>...| \"\"expiry\"\"=>1619...| \"\"fb_token\"\"=>\"\"...| \"\"eBe4CN907ZSrsX...| \"\"crud_token\"\"=>...|      \"\"expiry\"\"=>1619...|\n",
            "| 49|   email|nvillafane85@gmai...|$2a$11$9OA00Fvuxg...|                null|                  null|                false|               null|            3|2019-04-16 18:13:...|2019-04-15 19:20:...|    181.91.150.255|  181.1.179.171|jyFFgxKLSdXztza5nYes|2019-04-15 19:20:...|2019-04-15 19:20:...|             null|      Naty|          V|       nvillafane|                null|nvillafane85@gmai...|\"{\"\"weiegdXqL0Mef...| \"\"expiry\"\"=>1556...| \"\"Y8uxl9jTSRrxC7...| \"\"expiry\"\"=>1556...| \"\"AS3Ie5rQCtIFwl...| \"\"expiry\"\"=>1555...|2019-04-15 19:20:...|2019-04-16 18:13:...|                null|                null|                     null|\n",
            "| 51|   email|    1cph93@gmail.com|$2a$11$x4jh9nSqTw...|                null|                  null|                 true|               null|            2|2019-04-21 15:07:...|2019-04-21 15:07:...|    207.189.25.170| 207.189.25.170|DtrjsYqoFgmq-scvztHs|2019-04-21 15:07:...|2019-04-21 15:06:...|             null| Christian|      Hogan|           1cph93|                null|    1cph93@gmail.com|                  {}|2019-04-21 15:06:...|2020-02-06 20:29:...|                null|                null|                null|                null|                null|               false|                null|                     null|\n",
            "| 52|   email|natalia_villafane...|$2a$11$QE9CSa0KbD...|                null|                  null|                false|               null|            5|2019-08-26 13:49:...|2019-08-26 13:36:...|      181.81.70.11|   181.81.70.11|tRU8ia_rTJ37XdcuPpKK|2019-04-23 18:00:...|2019-04-23 17:59:...|             null| Test user|  Test user|             Naty|                null|natalia_villafane...|\"{\"\"UGwGx8mpuO59V...| \"\"expiry\"\"=>1568...| \"\"f8-z5XMvlnQCyX...| \"\"expiry\"\"=>1568...| \"\"CcfJTw7cU7bwWz...| \"\"expiry\"\"=>1568...|2019-04-23 17:59:...|2019-08-27 13:55:...|                null|          -34.580245|               -58.451654|\n",
            "| 53|   email|marshallandjudy@g...|$2a$11$RYaajW7cnF...|                null|                  null|                false|               null|            6|2020-10-10 15:30:...|2019-08-29 22:14:...|    24.197.126.193|  108.85.18.167|sMabx1pUYBFdHL2i9-iV|2019-05-01 21:44:...|2019-05-01 21:44:...|             null|  Marshall|     Barnes|   marshallbarnes|                null|marshallandjudy@g...|\"{\"\"K9xemZoujSrjo...| \"\"expiry\"\"=>1604...| \"\"last_token\"\"=>...| \"\"updated_at\"\"=>...| 10 Oct 2020 15:3...|2019-05-01 21:44:...|2020-10-10 15:35:...|                null|           34.870798|             -82.329|                      0.0|\n",
            "| 54|  google|     jeff@argonav.io|$2a$11$I30Fi61gII...|6856441ff54163ca9...|  2021-12-21 23:39:...|                 true|               null|          277|2022-05-31 13:37:...|2022-05-30 11:49:...|    73.212.212.208| 73.212.212.208|z1FvX7Uqa-JaFYofvazn|2019-05-17 15:47:...|2019-05-17 15:46:...|             null|   Captain|       Jeff|             Argo|https://argo-prod...|     jeff@argonav.io|\"{\"\"qIcd6l1bxzmt7...| \"\"crud_token\"\"=>...| \"\"expiry\"\"=>1654...| \"\"4qXuSLt837qUVs...| \"\"crud_token\"\"=>...| \"\"expiry\"\"=>1654...| \"\"ZxDv1qrDK-il9z...| \"\"crud_token\"\"=>...| \"\"expiry\"\"=>1655...| \"\"z-czH0iFiS864v...|      \"\"crud_token\"\"=>...|\n",
            "| 56|   email|    nat@bytelion.com|$2a$11$TE9jlViEuj...|                null|                  null|                false|               null|            0|                null|                null|              null|           null|vXC3JdiVGfQeWS9ywqTj|                null|2019-05-31 17:52:...|             null| Argo user|  Argo user|        Argo_user|                null|    nat@bytelion.com|                  {}|2019-05-31 17:52:...|2019-05-31 17:52:...|                null|                null|                null|                null|                null|               false|                null|                     null|\n",
            "| 57|facebook|     102493894344647|$2a$11$nahVgGRfTF...|                null|                  null|                false|               null|            4|2019-06-02 19:06:...|2019-06-02 19:05:...|      181.81.80.86|   181.81.80.86|                null|2019-05-31 18:40:...|                null|             null|   Natalia|  Villafane|natalia_villafane|https://platform-...|                null|\"{\"\"8-C_vqo-6Aspy...| \"\"expiry\"\"=>1560...| \"\"yu-srHlVGoi3zM...| \"\"expiry\"\"=>1560...| \"\"eXQjsPYTuTnTda...| \"\"expiry\"\"=>1560...| \"\"KQj0fmxiPzWEGw...| \"\"expiry\"\"=>1560...|2019-05-31 18:40:...|2019-06-02 19:06:...|                     null|\n",
            "| 58|   email|charliescranton@o...|$2a$11$jYe6sk.4D5...|                null|                  null|                false|               null|            0|                null|                null|              null|           null|Sti6erReDt7-EyMfHz2g|                null|2019-05-31 18:44:...|             null|   Charlie|   Scranton|  Charliescranton|                null|charliescranton@o...|                  {}|2019-05-31 18:44:...|2019-05-31 18:44:...|                null|                null|                null|                null|                null|               false|                null|                     null|\n",
            "+---+--------+--------------------+--------------------+--------------------+----------------------+---------------------+-------------------+-------------+--------------------+--------------------+------------------+---------------+--------------------+--------------------+--------------------+-----------------+----------+-----------+-----------------+--------------------+--------------------+--------------------+--------------------+--------------------+--------------------+--------------------+--------------------+--------------------+--------------------+--------------------+--------------------+-------------------------+\n",
            "only showing top 20 rows\n",
            "\n"
          ]
        }
      ]
    },
    {
      "cell_type": "code",
      "source": [
        "df.columns"
      ],
      "metadata": {
        "colab": {
          "base_uri": "https://localhost:8080/"
        },
        "id": "2P0tfcL1qACS",
        "outputId": "5fc8a4c2-62fd-4562-dcc0-04399d9edbeb"
      },
      "execution_count": 56,
      "outputs": [
        {
          "output_type": "execute_result",
          "data": {
            "text/plain": [
              "['id',\n",
              " 'provider',\n",
              " 'uid',\n",
              " 'encrypted_password',\n",
              " 'reset_password_token',\n",
              " 'reset_password_sent_at',\n",
              " 'allow_password_change',\n",
              " 'remember_created_at',\n",
              " 'sign_in_count',\n",
              " 'current_sign_in_at',\n",
              " 'last_sign_in_at',\n",
              " 'current_sign_in_ip',\n",
              " 'last_sign_in_ip',\n",
              " 'confirmation_token',\n",
              " 'confirmed_at',\n",
              " 'confirmation_sent_at',\n",
              " 'unconfirmed_email',\n",
              " 'first_name',\n",
              " 'last_name',\n",
              " 'username',\n",
              " 'image',\n",
              " 'email',\n",
              " 'tokens',\n",
              " 'created_at',\n",
              " 'updated_at',\n",
              " 'push_token',\n",
              " 'lat',\n",
              " 'lng',\n",
              " 'heading',\n",
              " 'depth',\n",
              " 'blocked',\n",
              " 'deleted_at',\n",
              " 'reset_password_token_base']"
            ]
          },
          "metadata": {},
          "execution_count": 56
        }
      ]
    },
    {
      "cell_type": "code",
      "source": [
        ""
      ],
      "metadata": {
        "id": "9tsu7ifBqEO6"
      },
      "execution_count": null,
      "outputs": []
    },
    {
      "cell_type": "code",
      "source": [
        ""
      ],
      "metadata": {
        "id": "_220nuN1qDim"
      },
      "execution_count": null,
      "outputs": []
    },
    {
      "cell_type": "code",
      "source": [
        ""
      ],
      "metadata": {
        "id": "kBFMDHg-oVU9"
      },
      "execution_count": null,
      "outputs": []
    },
    {
      "cell_type": "code",
      "source": [
        ""
      ],
      "metadata": {
        "id": "TxDUf87inYWK"
      },
      "execution_count": null,
      "outputs": []
    },
    {
      "cell_type": "code",
      "source": [
        ""
      ],
      "metadata": {
        "id": "BKPRo7o7nQZn"
      },
      "execution_count": null,
      "outputs": []
    },
    {
      "cell_type": "code",
      "source": [
        ""
      ],
      "metadata": {
        "id": "tHI7QjyKnK-H"
      },
      "execution_count": null,
      "outputs": []
    },
    {
      "cell_type": "code",
      "source": [
        ""
      ],
      "metadata": {
        "id": "455B322Amozq"
      },
      "execution_count": null,
      "outputs": []
    },
    {
      "cell_type": "code",
      "source": [
        ""
      ],
      "metadata": {
        "id": "WsvE11jQmmkD"
      },
      "execution_count": null,
      "outputs": []
    },
    {
      "cell_type": "code",
      "source": [
        ""
      ],
      "metadata": {
        "id": "FWEQqu4mmaki"
      },
      "execution_count": null,
      "outputs": []
    },
    {
      "cell_type": "code",
      "source": [
        ""
      ],
      "metadata": {
        "id": "RxOBVTnHmP3O"
      },
      "execution_count": null,
      "outputs": []
    },
    {
      "cell_type": "code",
      "source": [
        ""
      ],
      "metadata": {
        "id": "yD3qxXEkeNo9"
      },
      "execution_count": null,
      "outputs": []
    },
    {
      "cell_type": "code",
      "source": [
        ""
      ],
      "metadata": {
        "id": "KY4tNl-4dBgf"
      },
      "execution_count": null,
      "outputs": []
    },
    {
      "cell_type": "code",
      "source": [
        ""
      ],
      "metadata": {
        "id": "-K4Lm-sic_h4"
      },
      "execution_count": null,
      "outputs": []
    }
  ]
}